{
  "nbformat": 4,
  "nbformat_minor": 0,
  "metadata": {
    "colab": {
      "provenance": []
    },
    "kernelspec": {
      "name": "python3",
      "display_name": "Python 3"
    },
    "language_info": {
      "name": "python"
    }
  },
  "cells": [
    {
      "cell_type": "markdown",
      "source": [
        "**data.csv**"
      ],
      "metadata": {
        "id": "PsSvRoOITE6w"
      }
    },
    {
      "cell_type": "code",
      "execution_count": null,
      "metadata": {
        "colab": {
          "base_uri": "https://localhost:8080/"
        },
        "id": "1PuHwZwTSmG6",
        "outputId": "a933f517-2d9c-43f5-fc7b-a6ddb31b20ce"
      },
      "outputs": [
        {
          "output_type": "stream",
          "name": "stdout",
          "text": [
            "           count          mean          std      min      25%      50%  \\\n",
            "age_group                                                                \n",
            "20-30        3.0  52333.333333  8736.894948  45000.0  47500.0  50000.0   \n",
            "30-40        2.0  62500.000000  3535.533906  60000.0  61250.0  62500.0   \n",
            "40-50        2.0  72500.000000  3535.533906  70000.0  71250.0  72500.0   \n",
            "50-60        3.0  85000.000000  5000.000000  80000.0  82500.0  85000.0   \n",
            "\n",
            "               75%      max  \n",
            "age_group                    \n",
            "20-30      56000.0  62000.0  \n",
            "30-40      63750.0  65000.0  \n",
            "40-50      73750.0  75000.0  \n",
            "50-60      87500.0  90000.0  \n"
          ]
        }
      ],
      "source": [
        "import pandas as pd\n",
        "\n",
        "data = {\n",
        "    'age': [25, 30, 22, 40, 55, 60, 33, 28, 45, 50],\n",
        "    'income': [50000, 60000, 45000, 70000, 80000, 90000, 65000, 62000, 75000, 85000],\n",
        "    'age_group': ['20-30', '30-40', '20-30', '40-50', '50-60', '50-60', '30-40', '20-30', '40-50', '50-60']\n",
        "}\n",
        "\n",
        "df = pd.DataFrame(data)\n",
        "\n",
        "# Group the data by age_group and compute summary statistics for 'income'\n",
        "summary_stats = df.groupby('age_group')['income'].describe()\n",
        "\n",
        "print(summary_stats)\n"
      ]
    },
    {
      "cell_type": "code",
      "source": [
        "median_income = df.groupby('age_group')['income'].median()\n",
        "\n",
        "print(\"Median Income by Age Group:\")\n",
        "print(median_income)"
      ],
      "metadata": {
        "colab": {
          "base_uri": "https://localhost:8080/"
        },
        "id": "cafcD-LGTD6_",
        "outputId": "0a1c9636-1237-43eb-b46d-2fbb2b1e258d"
      },
      "execution_count": null,
      "outputs": [
        {
          "output_type": "stream",
          "name": "stdout",
          "text": [
            "Median Income by Age Group:\n",
            "age_group\n",
            "20-30    50000.0\n",
            "30-40    62500.0\n",
            "40-50    72500.0\n",
            "50-60    85000.0\n",
            "Name: income, dtype: float64\n"
          ]
        }
      ]
    },
    {
      "cell_type": "code",
      "source": [
        "print(\"Column Names:\", df.columns)"
      ],
      "metadata": {
        "colab": {
          "base_uri": "https://localhost:8080/"
        },
        "id": "edlPqMUUZCOC",
        "outputId": "dbe837bb-ed94-4da9-922e-61ca1532fab6"
      },
      "execution_count": null,
      "outputs": [
        {
          "output_type": "stream",
          "name": "stdout",
          "text": [
            "Column Names: Index(['age', 'income', 'age_group'], dtype='object')\n"
          ]
        }
      ]
    },
    {
      "cell_type": "code",
      "source": [
        "import pandas as pd\n",
        "\n",
        "# Modified dataset with repeated values\n",
        "data = {\n",
        "    'age': [25, 30, 25, 40, 55, 60, 33, 28, 45, 50, 25, 30, 28, 30, 25],\n",
        "    'income': [50000, 60000, 50000, 70000, 80000, 90000, 65000, 62000, 75000, 85000, 50000, 60000, 62000, 70000, 75000],\n",
        "    'age_group': ['20-30', '30-40', '20-30', '40-50', '50-60', '50-60', '30-40', '20-30', '40-50', '50-60', '20-30', '30-40', '20-30', '30-40', '20-30']\n",
        "}\n",
        "\n",
        "df = pd.DataFrame(data)\n",
        "\n",
        "# Calculate the mode for each column\n",
        "mode_age = df['age'].mode()\n",
        "mode_income = df['income'].mode()\n",
        "print(f\"Mode of Age: {mode_age.values}\")\n",
        "print(f\"Mode of Income: {mode_income.values}\")\n"
      ],
      "metadata": {
        "colab": {
          "base_uri": "https://localhost:8080/"
        },
        "id": "Z5FkAzLKZrzD",
        "outputId": "fa81feb0-c388-4c92-8f99-59fee1ce6ebc"
      },
      "execution_count": null,
      "outputs": [
        {
          "output_type": "stream",
          "name": "stdout",
          "text": [
            "Mode of Age: [25]\n",
            "Mode of Income: [50000]\n"
          ]
        }
      ]
    },
    {
      "cell_type": "markdown",
      "source": [
        "**iris.csv**"
      ],
      "metadata": {
        "id": "E2TXc9j_TOPP"
      }
    },
    {
      "cell_type": "code",
      "source": [
        "import pandas as pd\n",
        "\n",
        "df = pd.read_csv('iris.csv')\n",
        "\n",
        "# Show basic structure of the data\n",
        "print(df.head())\n",
        "\n",
        "# Group by species and display summary statistics\n",
        "summary_stats_species = df.groupby('variety').describe()\n",
        "\n",
        "# Additionally, we can compute specific percentiles and statistics\n",
        "percentiles = df.groupby('variety').quantile([0.25, 0.5, 0.75])\n",
        "\n",
        "# Display summary statistics and percentiles\n",
        "summary_stats_species = df.groupby('variety').describe()\n",
        "\n",
        "print(\"\\nPercentiles by Species:\")\n",
        "print(percentiles)\n"
      ],
      "metadata": {
        "colab": {
          "base_uri": "https://localhost:8080/"
        },
        "id": "ZC43mmcGTP8a",
        "outputId": "9a59f45e-9dc6-495a-b3db-318207510f6b"
      },
      "execution_count": null,
      "outputs": [
        {
          "output_type": "stream",
          "name": "stdout",
          "text": [
            "   sepal.length  sepal.width  petal.length  petal.width variety\n",
            "0           5.1          3.5           1.4          0.2  Setosa\n",
            "1           4.9          3.0           1.4          0.2  Setosa\n",
            "2           4.7          3.2           1.3          0.2  Setosa\n",
            "3           4.6          3.1           1.5          0.2  Setosa\n",
            "4           5.0          3.6           1.4          0.2  Setosa\n",
            "\n",
            "Percentiles by Species:\n",
            "                 sepal.length  sepal.width  petal.length  petal.width\n",
            "variety                                                              \n",
            "Setosa     0.25         4.800        3.200         1.400          0.2\n",
            "           0.50         5.000        3.400         1.500          0.2\n",
            "           0.75         5.200        3.675         1.575          0.3\n",
            "Versicolor 0.25         5.600        2.525         4.000          1.2\n",
            "           0.50         5.900        2.800         4.350          1.3\n",
            "           0.75         6.300        3.000         4.600          1.5\n",
            "Virginica  0.25         6.225        2.800         5.100          1.8\n",
            "           0.50         6.500        3.000         5.550          2.0\n",
            "           0.75         6.900        3.175         5.875          2.3\n"
          ]
        }
      ]
    },
    {
      "cell_type": "code",
      "source": [
        "summary_stats_species = df.groupby('variety')['sepal.width'].describe()\n",
        "\n",
        "print(\"\\nSummary Statistics by Species for Sepal Width:\")\n",
        "print(summary_stats_species)"
      ],
      "metadata": {
        "colab": {
          "base_uri": "https://localhost:8080/"
        },
        "id": "7iJ8-ZwFXkRW",
        "outputId": "fc976fb5-3916-4dc2-f1a1-3196a2f87897"
      },
      "execution_count": null,
      "outputs": [
        {
          "output_type": "stream",
          "name": "stdout",
          "text": [
            "\n",
            "Summary Statistics by Species for Sepal Width:\n",
            "            count   mean       std  min    25%  50%    75%  max\n",
            "variety                                                        \n",
            "Setosa       50.0  3.428  0.379064  2.3  3.200  3.4  3.675  4.4\n",
            "Versicolor   50.0  2.770  0.313798  2.0  2.525  2.8  3.000  3.4\n",
            "Virginica    50.0  2.974  0.322497  2.2  2.800  3.0  3.175  3.8\n"
          ]
        }
      ]
    },
    {
      "cell_type": "code",
      "source": [
        "# Group by species and compute the median for numeric columns\n",
        "median_values = df.groupby('variety').median()\n",
        "\n",
        "print(\"Median Values by Species:\")\n",
        "print(median_values)\n"
      ],
      "metadata": {
        "colab": {
          "base_uri": "https://localhost:8080/"
        },
        "id": "CTM88NpjURYe",
        "outputId": "8795cdb5-1196-419a-e58a-087d2a16fbcf"
      },
      "execution_count": null,
      "outputs": [
        {
          "output_type": "stream",
          "name": "stdout",
          "text": [
            "Median Values by Species:\n",
            "            sepal.length  sepal.width  petal.length  petal.width\n",
            "variety                                                         \n",
            "Setosa               5.0          3.4          1.50          0.2\n",
            "Versicolor           5.9          2.8          4.35          1.3\n",
            "Virginica            6.5          3.0          5.55          2.0\n"
          ]
        }
      ]
    },
    {
      "cell_type": "code",
      "source": [
        "median_sepal_length = df.groupby('variety')['sepal.length'].median()\n",
        "print(\"Median Sepal Length by Species:\")\n",
        "print(median_sepal_length)"
      ],
      "metadata": {
        "colab": {
          "base_uri": "https://localhost:8080/"
        },
        "id": "1NL6ipd0U6LC",
        "outputId": "9ddfab7a-a6c7-4f7e-e942-4208b8ef0b2c"
      },
      "execution_count": null,
      "outputs": [
        {
          "output_type": "stream",
          "name": "stdout",
          "text": [
            "Median Sepal Length by Species:\n",
            "variety\n",
            "Setosa        5.0\n",
            "Versicolor    5.9\n",
            "Virginica     6.5\n",
            "Name: sepal.length, dtype: float64\n"
          ]
        }
      ]
    },
    {
      "cell_type": "code",
      "source": [
        "mode_width = df['sepal.width'].mode()\n",
        "print(f\"Mode of Width: {mode_width.values}\")"
      ],
      "metadata": {
        "colab": {
          "base_uri": "https://localhost:8080/"
        },
        "id": "muSPqp0_VBrR",
        "outputId": "852cb1eb-5da1-4b27-b319-a305730a8cac"
      },
      "execution_count": null,
      "outputs": [
        {
          "output_type": "stream",
          "name": "stdout",
          "text": [
            "Mode of Width: [3.]\n"
          ]
        }
      ]
    }
  ]
}