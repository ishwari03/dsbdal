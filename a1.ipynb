{
 "cells": [
  {
   "cell_type": "code",
   "execution_count": 1,
   "id": "fa0000cb-c5cd-4dc4-8f3e-2347477041b4",
   "metadata": {},
   "outputs": [],
   "source": [
    "import pandas as pd\n",
    "import numpy as np"
   ]
  },
  {
   "cell_type": "markdown",
   "id": "82f4fbb2-5050-4262-9061-d4ec2bd9018e",
   "metadata": {},
   "source": [
    "The dataset contains information about different cars, including Car Brand, Model, Year, and Price.\n"
   ]
  },
  {
   "cell_type": "code",
   "execution_count": 17,
   "id": "ba54c581-f4b5-48c4-a082-cd7f2be3b460",
   "metadata": {},
   "outputs": [
    {
     "name": "stdout",
     "output_type": "stream",
     "text": [
      "           Car       Model  Volume  Weight  CO2\n",
      "0       Toyoty        Aygo  1000.0   790.0   99\n",
      "1   Mitsubishi  Space Star  1200.0  1160.0   95\n",
      "2        Skoda      Citigo  1000.0   929.0   95\n",
      "3         Fiat         500   900.0   865.0   90\n",
      "4         Mini      Cooper     NaN  1140.0  105\n",
      "5           VW         Up!  1000.0   929.0  105\n",
      "6        Skoda       Fabia  1400.0  1109.0   90\n",
      "7     Mercedes     A-Class  1500.0  1365.0   92\n",
      "8         Ford      Fiesta  1500.0  1112.0   98\n",
      "9         Audi         NaN  1600.0  1150.0   99\n",
      "10     Hyundai         I20  1100.0   980.0   99\n",
      "11      Suzuki       Swift  1300.0   990.0  101\n",
      "12        Ford      Fiesta  1000.0  1112.0   99\n",
      "13       Honda       Civic  1600.0     NaN   94\n",
      "14      Hundai         I30  1600.0  1326.0   97\n",
      "15        Opel       Astra  1600.0  1330.0   97\n",
      "16         BMW           1  1600.0  1365.0   99\n",
      "17       Mazda           3  2200.0  1280.0  104\n",
      "18       Skoda       Rapid  1600.0  1119.0  104\n",
      "19        Ford       Focus  2000.0  1328.0  105\n",
      "20        Ford      Mondeo  1600.0  1584.0   94\n",
      "21        Opel    Insignia  2000.0  1428.0   99\n",
      "22    Mercedes     C-Class  2100.0  1365.0   99\n",
      "23       Skoda     Octavia  1600.0  1415.0   99\n",
      "24       Volvo         S60  2000.0  1415.0   99\n",
      "25    Mercedes         CLA  1500.0  1465.0  102\n",
      "26        Audi          A4  2000.0  1490.0  104\n",
      "27        Audi          A6  2000.0  1725.0  114\n",
      "28       Volvo         V70  1600.0  1523.0  109\n",
      "29         BMW           5  2000.0  1705.0  114\n",
      "30    Mercedes     E-Class  2100.0  1605.0  115\n",
      "31       Volvo        XC70  2000.0  1746.0  117\n",
      "32        Ford       B-Max  1600.0  1235.0  104\n",
      "33         BMW         216  1600.0  1390.0  108\n",
      "34        Opel      Zafira  1600.0  1405.0  109\n",
      "35    Mercedes         SLK  2500.0     NaN  120\n"
     ]
    }
   ],
   "source": [
    "df = pd.read_csv(\"data.csv\")\n",
    "print(df)"
   ]
  },
  {
   "cell_type": "markdown",
   "id": "fd2db2f8-8eeb-41b0-94d3-8ad8010cf4f5",
   "metadata": {},
   "source": [
    "## Data preprocessing\n",
    "## Check for Missing Values"
   ]
  },
  {
   "cell_type": "code",
   "execution_count": 19,
   "id": "249e9898-c1f6-4105-9dea-7ffad4cfba82",
   "metadata": {},
   "outputs": [
    {
     "name": "stdout",
     "output_type": "stream",
     "text": [
      "Car       0\n",
      "Model     1\n",
      "Volume    1\n",
      "Weight    2\n",
      "CO2       0\n",
      "dtype: int64\n"
     ]
    }
   ],
   "source": [
    "missing_values = df.isnull().sum()\n",
    "print(missing_values)   #print(df.isnull()) is for true false o/p"
   ]
  },
  {
   "cell_type": "code",
   "execution_count": 23,
   "id": "6f605334-0ec7-47d1-bf02-5a6ad1e3bc92",
   "metadata": {},
   "outputs": [
    {
     "name": "stdout",
     "output_type": "stream",
     "text": [
      "\n",
      "Statistical Summary:\n",
      "            Volume       Weight         CO2\n",
      "count    35.000000    34.000000   36.000000\n",
      "mean   1614.285714  1290.441176  102.027778\n",
      "std     394.180354   248.605223    7.454571\n",
      "min     900.000000   790.000000   90.000000\n",
      "25%    1450.000000  1113.750000   97.750000\n",
      "50%    1600.000000  1329.000000   99.000000\n",
      "75%    2000.000000  1424.750000  105.000000\n",
      "max    2500.000000  1746.000000  120.000000\n"
     ]
    }
   ],
   "source": [
    "print(\"\\nStatistical Summary:\")\n",
    "print(df.describe())"
   ]
  },
  {
   "cell_type": "code",
   "execution_count": 33,
   "id": "4a3bb006-8c47-406a-932a-32e1706f42b2",
   "metadata": {},
   "outputs": [
    {
     "name": "stdout",
     "output_type": "stream",
     "text": [
      "\n",
      "Data types:\n",
      " Car        object\n",
      "Model      object\n",
      "Volume    float64\n",
      "Weight    float64\n",
      "CO2         int64\n",
      "dtype: object\n"
     ]
    }
   ],
   "source": [
    "#Variable descriptions and types\n",
    "print(\"\\nData types:\\n\" ,df.dtypes)"
   ]
  },
  {
   "cell_type": "code",
   "execution_count": 29,
   "id": "8c14faad-287a-43f6-a477-4311b7de5bb6",
   "metadata": {},
   "outputs": [
    {
     "name": "stdout",
     "output_type": "stream",
     "text": [
      "\n",
      "Dimensions of dataset:\n",
      " (36, 5)\n"
     ]
    }
   ],
   "source": [
    "print(\"\\nDimensions of dataset:\\n\", df.shape)"
   ]
  },
  {
   "cell_type": "code",
   "execution_count": 31,
   "id": "cadfe58f-0f08-42f3-822a-611eb9b716a8",
   "metadata": {},
   "outputs": [
    {
     "name": "stdout",
     "output_type": "stream",
     "text": [
      "<class 'pandas.core.frame.DataFrame'>\n",
      "RangeIndex: 36 entries, 0 to 35\n",
      "Data columns (total 5 columns):\n",
      " #   Column  Non-Null Count  Dtype  \n",
      "---  ------  --------------  -----  \n",
      " 0   Car     36 non-null     object \n",
      " 1   Model   35 non-null     object \n",
      " 2   Volume  35 non-null     float64\n",
      " 3   Weight  34 non-null     float64\n",
      " 4   CO2     36 non-null     int64  \n",
      "dtypes: float64(2), int64(1), object(2)\n",
      "memory usage: 1.5+ KB\n",
      "None\n"
     ]
    }
   ],
   "source": [
    "print(df.info())"
   ]
  },
  {
   "cell_type": "code",
   "execution_count": 41,
   "id": "c327c89f-8b5f-4781-841b-9ec399b72ea2",
   "metadata": {},
   "outputs": [
    {
     "name": "stdout",
     "output_type": "stream",
     "text": [
      "\n",
      "Converting 'Car' and 'Model' to Categorical Variables\n",
      "Car       category\n",
      "Model     category\n",
      "Volume     float64\n",
      "Weight     float64\n",
      "CO2          int64\n",
      "dtype: object\n"
     ]
    }
   ],
   "source": [
    "#data formatting\n",
    "print(\"\\nConverting 'Car' and 'Model' to Categorical Variables\")\n",
    "df['Car']= df['Car'].astype('category')\n",
    "df['Model']= df['Model'].astype('category')\n",
    "print(df.dtypes)"
   ]
  },
  {
   "cell_type": "code",
   "execution_count": 48,
   "id": "3da6cc41-1196-46b5-9668-eb80dd007920",
   "metadata": {},
   "outputs": [
    {
     "name": "stdout",
     "output_type": "stream",
     "text": [
      "\n",
      "Applying one hot encoding to categorical variables\n",
      "\n",
      "   Volume  Weight  CO2  Car_BMW  Car_Fiat  Car_Ford  Car_Honda  Car_Hundai  \\\n",
      "0  1000.0   790.0   99    False     False     False      False       False   \n",
      "1  1200.0  1160.0   95    False     False     False      False       False   \n",
      "2  1000.0   929.0   95    False     False     False      False       False   \n",
      "3   900.0   865.0   90    False      True     False      False       False   \n",
      "4     NaN  1140.0  105    False     False     False      False       False   \n",
      "\n",
      "   Car_Hyundai  Car_Mazda  ...  Model_Octavia  Model_Rapid  Model_S60  \\\n",
      "0        False      False  ...          False        False      False   \n",
      "1        False      False  ...          False        False      False   \n",
      "2        False      False  ...          False        False      False   \n",
      "3        False      False  ...          False        False      False   \n",
      "4        False      False  ...          False        False      False   \n",
      "\n",
      "   Model_SLK  Model_Space Star  Model_Swift  Model_Up!  Model_V70  Model_XC70  \\\n",
      "0      False             False        False      False      False       False   \n",
      "1      False              True        False      False      False       False   \n",
      "2      False             False        False      False      False       False   \n",
      "3      False             False        False      False      False       False   \n",
      "4      False             False        False      False      False       False   \n",
      "\n",
      "   Model_Zafira  \n",
      "0         False  \n",
      "1         False  \n",
      "2         False  \n",
      "3         False  \n",
      "4         False  \n",
      "\n",
      "[5 rows x 52 columns]\n"
     ]
    }
   ],
   "source": [
    "# One-hot encoding for categorical variables\n",
    "print(\"\\nApplying one hot encoding to categorical variables\\n\")\n",
    "df_encoded = pd.get_dummies(df,columns=['Car','Model'], drop_first=True)\n",
    "print(df_encoded.head())"
   ]
  },
  {
   "cell_type": "code",
   "execution_count": null,
   "id": "7d2dc802-9653-41fe-b235-5b6533ecce7e",
   "metadata": {},
   "outputs": [],
   "source": []
  }
 ],
 "metadata": {
  "kernelspec": {
   "display_name": "Python 3 (ipykernel)",
   "language": "python",
   "name": "python3"
  },
  "language_info": {
   "codemirror_mode": {
    "name": "ipython",
    "version": 3
   },
   "file_extension": ".py",
   "mimetype": "text/x-python",
   "name": "python",
   "nbconvert_exporter": "python",
   "pygments_lexer": "ipython3",
   "version": "3.12.7"
  }
 },
 "nbformat": 4,
 "nbformat_minor": 5
}
